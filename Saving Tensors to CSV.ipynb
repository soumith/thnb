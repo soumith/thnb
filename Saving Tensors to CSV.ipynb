{
 "metadata": {
  "language": "lua",
  "name": "",
  "signature": "sha256:222ca38a195aea8ac1985a3df6da1d822ed54f8203be951761c3fd2a631a5faf"
 },
 "nbformat": 3,
 "nbformat_minor": 0,
 "worksheets": [
  {
   "cells": [
    {
     "cell_type": "markdown",
     "metadata": {},
     "source": [
      "## Saving 1D and 2D tensors to CSV with csvigo."
     ]
    },
    {
     "cell_type": "markdown",
     "metadata": {},
     "source": [
      "Let us establish some context on what we are doing in this notebook.  \n",
      "We will save a Tensor to CSV.\n",
      "* 1D tensor corresponds to 1 row of a CSV.\n",
      "* 2D tensor of NxM elements is written to a CSV of N rows and M columns."
     ]
    },
    {
     "cell_type": "code",
     "collapsed": false,
     "input": [
      "require 'csvigo';"
     ],
     "language": "python",
     "metadata": {},
     "outputs": [],
     "prompt_number": 1
    },
    {
     "cell_type": "markdown",
     "metadata": {},
     "source": [
      "#### 1D Tensor"
     ]
    },
    {
     "cell_type": "code",
     "collapsed": false,
     "input": [
      "x = torch.randn(5)"
     ],
     "language": "python",
     "metadata": {},
     "outputs": [],
     "prompt_number": 2
    },
    {
     "cell_type": "code",
     "collapsed": false,
     "input": [
      "csvigo.save{path='test.csv', data={x:storage():totable()}, mode='raw', header=false}"
     ],
     "language": "python",
     "metadata": {},
     "outputs": [
      {
       "metadata": {},
       "output_type": "pyout",
       "prompt_number": 3,
       "text": [
        "<csv>\twriting to file: test.csv\t\n",
        "<csv>\twriting done\t\n",
        "\n"
       ]
      }
     ],
     "prompt_number": 3
    },
    {
     "cell_type": "code",
     "collapsed": false,
     "input": [
      "os.execute('cat test.csv');"
     ],
     "language": "python",
     "metadata": {},
     "outputs": [
      {
       "metadata": {},
       "output_type": "pyout",
       "prompt_number": 4,
       "text": [
        "-0.92156727046993,0.063969336305798,0.53617085675568,-1.0906517515787,-0.66408870766704\n"
       ]
      }
     ],
     "prompt_number": 4
    },
    {
     "cell_type": "markdown",
     "metadata": {},
     "source": [
      "#### 1D Table of tensors"
     ]
    },
    {
     "cell_type": "code",
     "collapsed": false,
     "input": [
      "x = {}\n",
      "for i=1,3 do table.insert(x, torch.randn(5)) end -- 3 rows"
     ],
     "language": "python",
     "metadata": {},
     "outputs": [],
     "prompt_number": 5
    },
    {
     "cell_type": "code",
     "collapsed": false,
     "input": [
      "y = {}\n",
      "for i=1,3 do table.insert(y, x[i]:totable()) end\n",
      "csvigo.save{path='test.csv', data=y, mode='raw', header=false}"
     ],
     "language": "python",
     "metadata": {},
     "outputs": [
      {
       "metadata": {},
       "output_type": "pyout",
       "prompt_number": 6,
       "text": [
        "<csv>\twriting to file: test.csv\t\n",
        "<csv>\twriting done\t\n"
       ]
      }
     ],
     "prompt_number": 6
    },
    {
     "cell_type": "code",
     "collapsed": false,
     "input": [
      "os.execute('cat test.csv');"
     ],
     "language": "python",
     "metadata": {},
     "outputs": [
      {
       "metadata": {},
       "output_type": "pyout",
       "prompt_number": 7,
       "text": [
        "-0.45249850299069,-0.38236193063481,-1.9773627342887,-0.45820720335177,-1.4173797526297\n",
        "-0.33366199866588,0.019158580858199,0.21597690613389,-0.73669091233258,-0.35948891584342\n",
        "1.8003581485223,-1.3115072980388,-1.8034916315555,1.4939233832523,0.34680344685565\n"
       ]
      }
     ],
     "prompt_number": 7
    },
    {
     "cell_type": "markdown",
     "metadata": {},
     "source": [
      "#### 2D Tensor"
     ]
    },
    {
     "cell_type": "code",
     "collapsed": false,
     "input": [
      "x = torch.randn(3,5)"
     ],
     "language": "python",
     "metadata": {},
     "outputs": [],
     "prompt_number": 8
    },
    {
     "cell_type": "code",
     "collapsed": false,
     "input": [
      "csvigo.save{path='test.csv', data=x:totable(), mode='raw', header=false}"
     ],
     "language": "python",
     "metadata": {},
     "outputs": [
      {
       "metadata": {},
       "output_type": "pyout",
       "prompt_number": 9,
       "text": [
        "<csv>\twriting to file: test.csv\t\n",
        "<csv>\twriting done\t\n",
        "\n"
       ]
      }
     ],
     "prompt_number": 9
    },
    {
     "cell_type": "code",
     "collapsed": false,
     "input": [
      "os.execute('cat test.csv');"
     ],
     "language": "python",
     "metadata": {},
     "outputs": [
      {
       "metadata": {},
       "output_type": "pyout",
       "prompt_number": 10,
       "text": [
        "0.78265112949061,0.1240632892343,-1.6179868819963,1.1427780559352,-0.81443350321836\n",
        "-0.25514381570671,0.36336968601056,2.0435222445908,1.3057005793111,1.8757921782746\n",
        "-0.30003541445729,0.79124701951781,0.84915824014005,-0.20883256099729,-0.79653516737091\n"
       ]
      }
     ],
     "prompt_number": 10
    },
    {
     "cell_type": "markdown",
     "metadata": {},
     "source": [
      "#### 3D Tensor???"
     ]
    },
    {
     "cell_type": "markdown",
     "metadata": {},
     "source": [
      "If you think about a 3D tensor, there is no way to write it as CSV, CSV files have rows and columns, they do not have a third dimension.  \n",
      "However, let's say you have a 3D tensor, but want to write each 2D slice after the other, i.e.  \n",
      "if you have a tensor **t** which is of size **3x2x2**, then you want to write **t[1]**, then **t[2]** and then **t[3]**.  \n",
      "This can be simply done using a tensor view, and writing as a 2D tensor, i.e.:"
     ]
    },
    {
     "cell_type": "code",
     "collapsed": false,
     "input": [
      "x = torch.randn(3,2,2)"
     ],
     "language": "python",
     "metadata": {},
     "outputs": [],
     "prompt_number": 11
    },
    {
     "cell_type": "code",
     "collapsed": false,
     "input": [
      "y=x:view(3*2,2)"
     ],
     "language": "python",
     "metadata": {},
     "outputs": [],
     "prompt_number": 12
    },
    {
     "cell_type": "code",
     "collapsed": false,
     "input": [
      "csvigo.save{path='test.csv', data=y:totable(), mode='raw', header=false}"
     ],
     "language": "python",
     "metadata": {},
     "outputs": [
      {
       "metadata": {},
       "output_type": "pyout",
       "prompt_number": 13,
       "text": [
        "<csv>\twriting to file: test.csv\t\n",
        "<csv>\twriting done\t\n",
        "\n"
       ]
      }
     ],
     "prompt_number": 13
    },
    {
     "cell_type": "code",
     "collapsed": false,
     "input": [
      "os.execute('cat test.csv');"
     ],
     "language": "python",
     "metadata": {},
     "outputs": [
      {
       "metadata": {},
       "output_type": "pyout",
       "prompt_number": 14,
       "text": [
        "0.80939151228189,2.0465123158299\n",
        "0.472215830434,0.42165457275287\n",
        "0.266179276152,-0.62882089467651\n",
        "-0.13670060957014,0.46700229912284\n",
        "-0.42347449455605,0.1821819276652\n",
        "-0.18885369742665,-0.23470594891685\n"
       ]
      }
     ],
     "prompt_number": 14
    },
    {
     "cell_type": "code",
     "collapsed": false,
     "input": [],
     "language": "python",
     "metadata": {},
     "outputs": []
    }
   ],
   "metadata": {}
  }
 ]
}