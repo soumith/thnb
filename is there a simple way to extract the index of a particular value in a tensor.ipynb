{
 "metadata": {
  "language": "lua",
  "name": "",
  "signature": "sha256:e7ae63988221eb7eca0b018e95d2070c540e8b150ff5ffd5cb1d670f9c7ec81d"
 },
 "nbformat": 3,
 "nbformat_minor": 0,
 "worksheets": [
  {
   "cells": [
    {
     "cell_type": "markdown",
     "metadata": {},
     "source": [
      "###Q. is there a simple way to extract the index of a particular value in a tensor?"
     ]
    },
    {
     "cell_type": "markdown",
     "metadata": {},
     "source": [
      "A. Lets work this out.\n",
      "\n",
      "Let's define a tensor with 10 integers from 1 to 10 randomly permuted."
     ]
    },
    {
     "cell_type": "code",
     "collapsed": false,
     "input": [
      "t=torch.randperm(10)"
     ],
     "language": "python",
     "metadata": {},
     "outputs": [],
     "prompt_number": 1
    },
    {
     "cell_type": "code",
     "collapsed": false,
     "input": [
      "t"
     ],
     "language": "python",
     "metadata": {},
     "outputs": [
      {
       "metadata": {},
       "output_type": "pyout",
       "prompt_number": 2,
       "text": [
        "  5\n",
        "  9\n",
        "  2\n",
        "  8\n",
        " 10\n",
        "  7\n",
        "  4\n",
        "  1\n",
        "  6\n",
        "  3\n",
        "[torch.DoubleTensor of dimension 10]\n",
        "\n"
       ]
      }
     ],
     "prompt_number": 2
    },
    {
     "cell_type": "markdown",
     "metadata": {},
     "source": [
      "Now, find all instances of \"7\" in the tensor.\n",
      "\n",
      "Let us do two methods. \n",
      "\n",
      "Method (1) is a simple for-loop."
     ]
    },
    {
     "cell_type": "code",
     "collapsed": false,
     "input": [
      "for i=1,t:size(1) do \n",
      "    if t[i] == 7 then\n",
      "        print('Found 7 at location: ' .. i)\n",
      "    end\n",
      "end"
     ],
     "language": "python",
     "metadata": {},
     "outputs": [
      {
       "metadata": {},
       "output_type": "pyout",
       "prompt_number": 7,
       "text": [
        "Found 7 at location: 6\t\n"
       ]
      }
     ],
     "prompt_number": 7
    },
    {
     "cell_type": "markdown",
     "metadata": {},
     "source": [
      "Method (2) which is more efficient and faster:\n",
      "\n",
      "We use the :eq function, which is part of the logical operators.\n",
      "\n",
      "https://github.com/torch/torch7/blob/master/doc/maths.md#logical-operations-on-tensors"
     ]
    },
    {
     "cell_type": "code",
     "collapsed": false,
     "input": [
      "t:eq(7)"
     ],
     "language": "python",
     "metadata": {},
     "outputs": [
      {
       "metadata": {},
       "output_type": "pyout",
       "prompt_number": 8,
       "text": [
        " 0\n",
        " 0\n",
        " 0\n",
        " 0\n",
        " 0\n",
        " 1\n",
        " 0\n",
        " 0\n",
        " 0\n",
        " 0\n",
        "[torch.ByteTensor of dimension 10]\n",
        "\n"
       ]
      }
     ],
     "prompt_number": 8
    },
    {
     "cell_type": "markdown",
     "metadata": {},
     "source": [
      "As you see, it retured a mask, where there is a value **1** wherever there was the value **7**.\n",
      "Now, let us extract a new tensor with just the value."
     ]
    },
    {
     "cell_type": "code",
     "collapsed": false,
     "input": [
      "t[t:eq(7)]"
     ],
     "language": "python",
     "metadata": {},
     "outputs": [
      {
       "metadata": {},
       "output_type": "pyout",
       "prompt_number": 9,
       "text": [
        " 7\n",
        "[torch.DoubleTensor of dimension 1]\n",
        "\n"
       ]
      }
     ],
     "prompt_number": 9
    },
    {
     "cell_type": "code",
     "collapsed": false,
     "input": [],
     "language": "python",
     "metadata": {},
     "outputs": []
    }
   ],
   "metadata": {}
  }
 ]
}