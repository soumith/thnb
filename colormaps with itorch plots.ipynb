{
 "cells": [
  {
   "cell_type": "code",
   "execution_count": 2,
   "metadata": {
    "collapsed": false
   },
   "outputs": [],
   "source": [
    "Plot=require 'itorch.Plot'"
   ]
  },
  {
   "cell_type": "code",
   "execution_count": 4,
   "metadata": {
    "collapsed": false
   },
   "outputs": [],
   "source": [
    "x1 = torch.randn(40):mul(100)\n",
    "y1 = torch.randn(40):mul(100)"
   ]
  },
  {
   "cell_type": "code",
   "execution_count": 15,
   "metadata": {
    "collapsed": false
   },
   "outputs": [
    {
     "data": {
      "text/html": [
       "<script type=\"text/javascript\">\n",
       "$(function() {\n",
       "    if (typeof (window._bokeh_onload_callbacks) === \"undefined\"){\n",
       "  window._bokeh_onload_callbacks = [];\n",
       "    }\n",
       "    function load_lib(url, callback){\n",
       "  window._bokeh_onload_callbacks.push(callback);\n",
       "  if (window._bokeh_is_loading){\n",
       "      console.log(\"Bokeh: BokehJS is being loaded, scheduling callback at\", new Date());\n",
       "      return null;\n",
       "  }\n",
       "  console.log(\"Bokeh: BokehJS not loaded, scheduling load and callback at\", new Date());\n",
       "  window._bokeh_is_loading = true;\n",
       "  var s = document.createElement('script');\n",
       "  s.src = url;\n",
       "  s.async = true;\n",
       "  s.onreadystatechange = s.onload = function(){\n",
       "      Bokeh.embed.inject_css(\"http://cdn.pydata.org/bokeh-0.7.0.min.css\");\n",
       "      window._bokeh_onload_callbacks.forEach(function(callback){callback()});\n",
       "  };\n",
       "  s.onerror = function(){\n",
       "      console.warn(\"failed to load library \" + url);\n",
       "  };\n",
       "  document.getElementsByTagName(\"head\")[0].appendChild(s);\n",
       "    }\n",
       "\n",
       "    bokehjs_url = \"http://cdn.pydata.org/bokeh-0.7.0.min.js\"\n",
       "\n",
       "    var elt = document.getElementById(\"f223fef1-7924-46de-c61f-da27bee49a77\");\n",
       "    if(elt==null) {\n",
       "  console.log(\"Bokeh: ERROR: autoload.js configured with elementid 'f223fef1-7924-46de-c61f-da27bee49a77'\"\n",
       "        + \"but no matching script tag was found. \")\n",
       "  return false;\n",
       "    }\n",
       "\n",
       "    if(typeof(Bokeh) !== \"undefined\") {\n",
       "  console.log(\"Bokeh: BokehJS loaded, going straight to plotting\");\n",
       "  var modelid = \"e681f55b-6433-4b08-cbd5-56851e1ca9b4\";\n",
       "  var modeltype = \"Plot\";\n",
       "  var all_models = [{\"id\":\"39df18c0-5500-4893-c8f6-7f0d8b823929\",\"type\":\"ColumnDataSource\",\"attributes\":{\"data\":{\"x\":[-23.441111271749,131.41555787497,232.77725827215,146.3589557844,-26.841304695305,-233.23281166573,38.056152183763,138.76245858134,5.6993540952732,-96.939992459595,103.74010162387,-144.11398508734,-123.36765520833,2.3644942251272,-3.678077487119,-220.09720359488,-9.5269450191254,-73.073074867315,168.53021276353,-57.166238379355,50.27264021679,192.96745830464,124.07999346738,-139.44648335367,45.27542686497,-27.570950893692,37.114944524239,-103.30765858874,9.2987606853393,-68.224430368101,186.52369559299,-47.204340875306,-14.235967539486,26.762348728168,52.729810222747,80.712982170433,12.969757555646,50.702465364817,44.01722640088,-32.529881920114],\"y\":[53.974149990128,181.99053357751,-347.76958366914,110.91532606991,47.907180817969,-90.49826224585,65.115364809671,88.080655198365,-90.64377024142,-154.46119373674,-144.33707444397,-62.456093897327,-81.262951168308,-13.045811360929,8.5239721126578,108.09323893984,-45.249377453189,-109.41788897246,-117.55451039675,-24.088080959037,29.928532700544,-19.998783802821,94.26124413285,2.9819798493115,-67.291969899843,21.40021371767,33.43849681203,37.910686165142,-83.885790809685,151.42947621182,3.6574798735155,33.59747920178,-117.62078326918,-31.425266859512,-25.264511429334,-78.141803523381,-77.88140989833,-97.91179275539,-166.80591131825,60.310755272606],\"fill_color\":[\"#000031\",\"#990000\",\"#990000\",\"#990000\",\"#000034\",\"#000099\",\"#240000\",\"#990000\",\"#00004\",\"#000099\",\"#850000\",\"#000099\",\"#000099\",\"#00007\",\"#000013\",\"#000099\",\"#000018\",\"#000077\",\"#990000\",\"#000062\",\"#360000\",\"#990000\",\"#990000\",\"#000099\",\"#310000\",\"#000035\",\"#240000\",\"#000099\",\"#00001\",\"#000072\",\"#990000\",\"#000053\",\"#000023\",\"#140000\",\"#380000\",\"#640000\",\"#10000\",\"#360000\",\"#300000\",\"#000039\"],\"line_color\":[\"#000031\",\"#990000\",\"#990000\",\"#990000\",\"#000034\",\"#000099\",\"#240000\",\"#990000\",\"#00004\",\"#000099\",\"#850000\",\"#000099\",\"#000099\",\"#00007\",\"#000013\",\"#000099\",\"#000018\",\"#000077\",\"#990000\",\"#000062\",\"#360000\",\"#990000\",\"#990000\",\"#000099\",\"#310000\",\"#000035\",\"#240000\",\"#000099\",\"#00001\",\"#000072\",\"#990000\",\"#000053\",\"#000023\",\"#140000\",\"#380000\",\"#640000\",\"#10000\",\"#360000\",\"#300000\",\"#000039\"]},\"column_names\":[\"fill_color\",\"line_color\",\"y\",\"x\"],\"cont_ranges\":{},\"discrete_ranges\":{},\"selected\":[],\"id\":\"39df18c0-5500-4893-c8f6-7f0d8b823929\",\"doc\":null,\"tags\":[]}},{\"id\":\"e200bde2-7ff2-40dd-c0d6-252146e7b23e\",\"type\":\"Circle\",\"attributes\":{\"fill_alpha\":{\"units\":\"data\",\"value\":0.2},\"line_alpha\":{\"units\":\"data\",\"value\":1},\"doc\":null,\"size\":{\"units\":\"screen\",\"value\":10},\"fill_color\":{\"units\":\"data\",\"field\":\"fill_color\"},\"line_color\":{\"units\":\"data\",\"field\":\"line_color\"},\"x\":{\"units\":\"data\",\"field\":\"x\"},\"id\":\"e200bde2-7ff2-40dd-c0d6-252146e7b23e\",\"y\":{\"units\":\"data\",\"field\":\"y\"},\"tags\":[]}},{\"id\":\"2b5dbcd7-364b-4ba2-cb98-a6fc35ee4632\",\"type\":\"Circle\",\"attributes\":{\"fill_alpha\":{\"units\":\"data\",\"value\":0.2},\"line_alpha\":{\"units\":\"data\",\"value\":1},\"doc\":null,\"size\":{\"units\":\"screen\",\"value\":10},\"fill_color\":{\"units\":\"data\",\"field\":\"fill_color\"},\"line_color\":{\"units\":\"data\",\"field\":\"line_color\"},\"x\":{\"units\":\"data\",\"field\":\"x\"},\"id\":\"2b5dbcd7-364b-4ba2-cb98-a6fc35ee4632\",\"y\":{\"units\":\"data\",\"field\":\"y\"},\"tags\":[]}},{\"id\":\"e13a1f18-c2a2-427e-c298-97d44fbc8d35\",\"type\":\"GlyphRenderer\",\"attributes\":{\"name\":null,\"nonselection_glyph\":{\"type\":\"Circle\",\"id\":\"2b5dbcd7-364b-4ba2-cb98-a6fc35ee4632\"},\"doc\":null,\"server_data_source\":null,\"data_source\":{\"type\":\"ColumnDataSource\",\"id\":\"39df18c0-5500-4893-c8f6-7f0d8b823929\"},\"glyph\":{\"type\":\"Circle\",\"id\":\"e200bde2-7ff2-40dd-c0d6-252146e7b23e\"},\"selection_glyph\":null,\"id\":\"e13a1f18-c2a2-427e-c298-97d44fbc8d35\",\"tags\":[]}},{\"id\":\"3dc4d9c7-4686-4505-c5c0-94ae2d145c2c\",\"type\":\"DataRange1d\",\"attributes\":{\"sources\":[{\"columns\":[\"x\"],\"source\":{\"type\":\"ColumnDataSource\",\"id\":\"39df18c0-5500-4893-c8f6-7f0d8b823929\"}}],\"id\":\"3dc4d9c7-4686-4505-c5c0-94ae2d145c2c\",\"tags\":[],\"doc\":null}},{\"id\":\"bc0cbae7-ae13-41e4-c125-fc822e16a164\",\"type\":\"DataRange1d\",\"attributes\":{\"sources\":[{\"columns\":[\"y\"],\"source\":{\"type\":\"ColumnDataSource\",\"id\":\"39df18c0-5500-4893-c8f6-7f0d8b823929\"}}],\"id\":\"bc0cbae7-ae13-41e4-c125-fc822e16a164\",\"tags\":[],\"doc\":null}},{\"id\":\"9614dfa8-9f73-4906-c9b8-ce004b16bcd7\",\"type\":\"ToolEvents\",\"attributes\":{\"tags\":[],\"id\":\"9614dfa8-9f73-4906-c9b8-ce004b16bcd7\",\"geometries\":[],\"doc\":null}},{\"id\":\"7ef987d6-b99b-4c16-cc7e-9c4c50cb5cc4\",\"type\":\"BasicTickFormatter\",\"attributes\":{\"id\":\"7ef987d6-b99b-4c16-cc7e-9c4c50cb5cc4\",\"tags\":[],\"doc\":null}},{\"id\":\"6dab06e5-b677-4483-c434-491c70e78b59\",\"type\":\"BasicTicker\",\"attributes\":{\"num_minor_ticks\":5,\"id\":\"6dab06e5-b677-4483-c434-491c70e78b59\",\"tags\":[],\"doc\":null}},{\"id\":\"9749a434-9fdf-409b-c008-777ce997c7b1\",\"type\":\"LinearAxis\",\"attributes\":{\"formatter\":{\"type\":\"BasicTickFormatter\",\"id\":\"7ef987d6-b99b-4c16-cc7e-9c4c50cb5cc4\"},\"ticker\":{\"type\":\"BasicTicker\",\"id\":\"6dab06e5-b677-4483-c434-491c70e78b59\"},\"plot\":{\"id\":\"e681f55b-6433-4b08-cbd5-56851e1ca9b4\",\"type\":\"Plot\",\"subtype\":\"Figure\"},\"axis_label\":null,\"id\":\"9749a434-9fdf-409b-c008-777ce997c7b1\",\"doc\":null,\"tags\":[]}},{\"id\":\"c3e914dd-9ef0-4d30-cdc5-0950b2e84f97\",\"type\":\"Grid\",\"attributes\":{\"dimension\":0,\"plot\":{\"id\":\"e681f55b-6433-4b08-cbd5-56851e1ca9b4\",\"type\":\"Plot\",\"subtype\":\"Figure\"},\"ticker\":{\"type\":\"BasicTicker\",\"id\":\"6dab06e5-b677-4483-c434-491c70e78b59\"},\"id\":\"c3e914dd-9ef0-4d30-cdc5-0950b2e84f97\",\"doc\":null,\"tags\":[]}},{\"id\":\"817658f1-002f-47fb-c763-1f0588a7eb6c\",\"type\":\"BasicTickFormatter\",\"attributes\":{\"id\":\"817658f1-002f-47fb-c763-1f0588a7eb6c\",\"tags\":[],\"doc\":null}},{\"id\":\"c4ed0338-7dec-4521-c59b-f38ca5145ee8\",\"type\":\"BasicTicker\",\"attributes\":{\"num_minor_ticks\":5,\"id\":\"c4ed0338-7dec-4521-c59b-f38ca5145ee8\",\"tags\":[],\"doc\":null}},{\"id\":\"3325eb2e-316d-4a16-caef-3de3fead25d1\",\"type\":\"LinearAxis\",\"attributes\":{\"formatter\":{\"type\":\"BasicTickFormatter\",\"id\":\"817658f1-002f-47fb-c763-1f0588a7eb6c\"},\"ticker\":{\"type\":\"BasicTicker\",\"id\":\"c4ed0338-7dec-4521-c59b-f38ca5145ee8\"},\"plot\":{\"id\":\"e681f55b-6433-4b08-cbd5-56851e1ca9b4\",\"type\":\"Plot\",\"subtype\":\"Figure\"},\"axis_label\":null,\"id\":\"3325eb2e-316d-4a16-caef-3de3fead25d1\",\"doc\":null,\"tags\":[]}},{\"id\":\"513893b6-c1c5-428f-c2c0-0750323fd794\",\"type\":\"Grid\",\"attributes\":{\"dimension\":1,\"plot\":{\"id\":\"e681f55b-6433-4b08-cbd5-56851e1ca9b4\",\"type\":\"Plot\",\"subtype\":\"Figure\"},\"ticker\":{\"type\":\"BasicTicker\",\"id\":\"c4ed0338-7dec-4521-c59b-f38ca5145ee8\"},\"id\":\"513893b6-c1c5-428f-c2c0-0750323fd794\",\"doc\":null,\"tags\":[]}},{\"id\":\"79e9d9c4-4a28-4e17-ce72-74f85bda98cb\",\"type\":\"PanTool\",\"attributes\":{\"plot\":{\"id\":\"e681f55b-6433-4b08-cbd5-56851e1ca9b4\",\"type\":\"Plot\",\"subtype\":\"Figure\"},\"dimensions\":[\"width\",\"height\"],\"id\":\"79e9d9c4-4a28-4e17-ce72-74f85bda98cb\",\"doc\":null,\"tags\":[]}},{\"id\":\"3f947ee5-3034-420f-c254-64fb6852581e\",\"type\":\"WheelZoomTool\",\"attributes\":{\"plot\":{\"id\":\"e681f55b-6433-4b08-cbd5-56851e1ca9b4\",\"type\":\"Plot\",\"subtype\":\"Figure\"},\"dimensions\":[\"width\",\"height\"],\"id\":\"3f947ee5-3034-420f-c254-64fb6852581e\",\"doc\":null,\"tags\":[]}},{\"id\":\"3060bed5-c949-45a3-c5d9-2dc469b0b7a8\",\"type\":\"BoxZoomTool\",\"attributes\":{\"plot\":{\"id\":\"e681f55b-6433-4b08-cbd5-56851e1ca9b4\",\"type\":\"Plot\",\"subtype\":\"Figure\"},\"id\":\"3060bed5-c949-45a3-c5d9-2dc469b0b7a8\",\"tags\":[],\"doc\":null}},{\"id\":\"4473ce17-7b5a-40f1-c0fc-671f22f9d9ec\",\"type\":\"PreviewSaveTool\",\"attributes\":{\"plot\":{\"id\":\"e681f55b-6433-4b08-cbd5-56851e1ca9b4\",\"type\":\"Plot\",\"subtype\":\"Figure\"},\"id\":\"4473ce17-7b5a-40f1-c0fc-671f22f9d9ec\",\"tags\":[],\"doc\":null}},{\"id\":\"bfcd134d-ed90-4dd3-cd1e-272608ba7b79\",\"type\":\"ResizeTool\",\"attributes\":{\"plot\":{\"id\":\"e681f55b-6433-4b08-cbd5-56851e1ca9b4\",\"type\":\"Plot\",\"subtype\":\"Figure\"},\"id\":\"bfcd134d-ed90-4dd3-cd1e-272608ba7b79\",\"tags\":[],\"doc\":null}},{\"id\":\"526b14f2-e959-4543-c5e2-a0977418961b\",\"type\":\"ResetTool\",\"attributes\":{\"plot\":{\"id\":\"e681f55b-6433-4b08-cbd5-56851e1ca9b4\",\"type\":\"Plot\",\"subtype\":\"Figure\"},\"id\":\"526b14f2-e959-4543-c5e2-a0977418961b\",\"tags\":[],\"doc\":null}},{\"id\":\"e681f55b-6433-4b08-cbd5-56851e1ca9b4\",\"type\":\"Plot\",\"attributes\":{\"x_range\":{\"type\":\"DataRange1d\",\"id\":\"3dc4d9c7-4686-4505-c5c0-94ae2d145c2c\"},\"tool_events\":{\"type\":\"ToolEvents\",\"id\":\"9614dfa8-9f73-4906-c9b8-ce004b16bcd7\"},\"below\":[{\"type\":\"LinearAxis\",\"id\":\"9749a434-9fdf-409b-c008-777ce997c7b1\"}],\"renderers\":[{\"type\":\"GlyphRenderer\",\"id\":\"e13a1f18-c2a2-427e-c298-97d44fbc8d35\"},{\"type\":\"LinearAxis\",\"id\":\"9749a434-9fdf-409b-c008-777ce997c7b1\"},{\"type\":\"Grid\",\"id\":\"c3e914dd-9ef0-4d30-cdc5-0950b2e84f97\"},{\"type\":\"LinearAxis\",\"id\":\"3325eb2e-316d-4a16-caef-3de3fead25d1\"},{\"type\":\"Grid\",\"id\":\"513893b6-c1c5-428f-c2c0-0750323fd794\"}],\"above\":[],\"tools\":[{\"type\":\"PanTool\",\"id\":\"79e9d9c4-4a28-4e17-ce72-74f85bda98cb\"},{\"type\":\"WheelZoomTool\",\"id\":\"3f947ee5-3034-420f-c254-64fb6852581e\"},{\"type\":\"BoxZoomTool\",\"id\":\"3060bed5-c949-45a3-c5d9-2dc469b0b7a8\"},{\"type\":\"PreviewSaveTool\",\"id\":\"4473ce17-7b5a-40f1-c0fc-671f22f9d9ec\"},{\"type\":\"ResizeTool\",\"id\":\"bfcd134d-ed90-4dd3-cd1e-272608ba7b79\"},{\"type\":\"ResetTool\",\"id\":\"526b14f2-e959-4543-c5e2-a0977418961b\"}],\"doc\":null,\"right\":[],\"title\":\"Untitled Plot\",\"extra_x_ranges\":{},\"left\":[{\"type\":\"LinearAxis\",\"id\":\"3325eb2e-316d-4a16-caef-3de3fead25d1\"}],\"y_range\":{\"type\":\"DataRange1d\",\"id\":\"bc0cbae7-ae13-41e4-c125-fc822e16a164\"},\"id\":\"e681f55b-6433-4b08-cbd5-56851e1ca9b4\",\"extra_y_ranges\":{},\"tags\":[]}}];\n",
       "  Bokeh.load_models(all_models);\n",
       "  var model = Bokeh.Collections(modeltype).get(modelid);\n",
       "  $(\"#f223fef1-7924-46de-c61f-da27bee49a77\").html(''); // clear any previous plot in window_id\n",
       "  var view = new model.default_view({model: model, el: \"#f223fef1-7924-46de-c61f-da27bee49a77\"});\n",
       "    } else {\n",
       "  load_lib(bokehjs_url, function() {\n",
       "      console.log(\"Bokeh: BokehJS plotting callback run at\", new Date())\n",
       "      var modelid = \"e681f55b-6433-4b08-cbd5-56851e1ca9b4\";\n",
       "      var modeltype = \"Plot\";\n",
       "      var all_models = [{\"id\":\"39df18c0-5500-4893-c8f6-7f0d8b823929\",\"type\":\"ColumnDataSource\",\"attributes\":{\"data\":{\"x\":[-23.441111271749,131.41555787497,232.77725827215,146.3589557844,-26.841304695305,-233.23281166573,38.056152183763,138.76245858134,5.6993540952732,-96.939992459595,103.74010162387,-144.11398508734,-123.36765520833,2.3644942251272,-3.678077487119,-220.09720359488,-9.5269450191254,-73.073074867315,168.53021276353,-57.166238379355,50.27264021679,192.96745830464,124.07999346738,-139.44648335367,45.27542686497,-27.570950893692,37.114944524239,-103.30765858874,9.2987606853393,-68.224430368101,186.52369559299,-47.204340875306,-14.235967539486,26.762348728168,52.729810222747,80.712982170433,12.969757555646,50.702465364817,44.01722640088,-32.529881920114],\"y\":[53.974149990128,181.99053357751,-347.76958366914,110.91532606991,47.907180817969,-90.49826224585,65.115364809671,88.080655198365,-90.64377024142,-154.46119373674,-144.33707444397,-62.456093897327,-81.262951168308,-13.045811360929,8.5239721126578,108.09323893984,-45.249377453189,-109.41788897246,-117.55451039675,-24.088080959037,29.928532700544,-19.998783802821,94.26124413285,2.9819798493115,-67.291969899843,21.40021371767,33.43849681203,37.910686165142,-83.885790809685,151.42947621182,3.6574798735155,33.59747920178,-117.62078326918,-31.425266859512,-25.264511429334,-78.141803523381,-77.88140989833,-97.91179275539,-166.80591131825,60.310755272606],\"fill_color\":[\"#000031\",\"#990000\",\"#990000\",\"#990000\",\"#000034\",\"#000099\",\"#240000\",\"#990000\",\"#00004\",\"#000099\",\"#850000\",\"#000099\",\"#000099\",\"#00007\",\"#000013\",\"#000099\",\"#000018\",\"#000077\",\"#990000\",\"#000062\",\"#360000\",\"#990000\",\"#990000\",\"#000099\",\"#310000\",\"#000035\",\"#240000\",\"#000099\",\"#00001\",\"#000072\",\"#990000\",\"#000053\",\"#000023\",\"#140000\",\"#380000\",\"#640000\",\"#10000\",\"#360000\",\"#300000\",\"#000039\"],\"line_color\":[\"#000031\",\"#990000\",\"#990000\",\"#990000\",\"#000034\",\"#000099\",\"#240000\",\"#990000\",\"#00004\",\"#000099\",\"#850000\",\"#000099\",\"#000099\",\"#00007\",\"#000013\",\"#000099\",\"#000018\",\"#000077\",\"#990000\",\"#000062\",\"#360000\",\"#990000\",\"#990000\",\"#000099\",\"#310000\",\"#000035\",\"#240000\",\"#000099\",\"#00001\",\"#000072\",\"#990000\",\"#000053\",\"#000023\",\"#140000\",\"#380000\",\"#640000\",\"#10000\",\"#360000\",\"#300000\",\"#000039\"]},\"column_names\":[\"fill_color\",\"line_color\",\"y\",\"x\"],\"cont_ranges\":{},\"discrete_ranges\":{},\"selected\":[],\"id\":\"39df18c0-5500-4893-c8f6-7f0d8b823929\",\"doc\":null,\"tags\":[]}},{\"id\":\"e200bde2-7ff2-40dd-c0d6-252146e7b23e\",\"type\":\"Circle\",\"attributes\":{\"fill_alpha\":{\"units\":\"data\",\"value\":0.2},\"line_alpha\":{\"units\":\"data\",\"value\":1},\"doc\":null,\"size\":{\"units\":\"screen\",\"value\":10},\"fill_color\":{\"units\":\"data\",\"field\":\"fill_color\"},\"line_color\":{\"units\":\"data\",\"field\":\"line_color\"},\"x\":{\"units\":\"data\",\"field\":\"x\"},\"id\":\"e200bde2-7ff2-40dd-c0d6-252146e7b23e\",\"y\":{\"units\":\"data\",\"field\":\"y\"},\"tags\":[]}},{\"id\":\"2b5dbcd7-364b-4ba2-cb98-a6fc35ee4632\",\"type\":\"Circle\",\"attributes\":{\"fill_alpha\":{\"units\":\"data\",\"value\":0.2},\"line_alpha\":{\"units\":\"data\",\"value\":1},\"doc\":null,\"size\":{\"units\":\"screen\",\"value\":10},\"fill_color\":{\"units\":\"data\",\"field\":\"fill_color\"},\"line_color\":{\"units\":\"data\",\"field\":\"line_color\"},\"x\":{\"units\":\"data\",\"field\":\"x\"},\"id\":\"2b5dbcd7-364b-4ba2-cb98-a6fc35ee4632\",\"y\":{\"units\":\"data\",\"field\":\"y\"},\"tags\":[]}},{\"id\":\"e13a1f18-c2a2-427e-c298-97d44fbc8d35\",\"type\":\"GlyphRenderer\",\"attributes\":{\"name\":null,\"nonselection_glyph\":{\"type\":\"Circle\",\"id\":\"2b5dbcd7-364b-4ba2-cb98-a6fc35ee4632\"},\"doc\":null,\"server_data_source\":null,\"data_source\":{\"type\":\"ColumnDataSource\",\"id\":\"39df18c0-5500-4893-c8f6-7f0d8b823929\"},\"glyph\":{\"type\":\"Circle\",\"id\":\"e200bde2-7ff2-40dd-c0d6-252146e7b23e\"},\"selection_glyph\":null,\"id\":\"e13a1f18-c2a2-427e-c298-97d44fbc8d35\",\"tags\":[]}},{\"id\":\"3dc4d9c7-4686-4505-c5c0-94ae2d145c2c\",\"type\":\"DataRange1d\",\"attributes\":{\"sources\":[{\"columns\":[\"x\"],\"source\":{\"type\":\"ColumnDataSource\",\"id\":\"39df18c0-5500-4893-c8f6-7f0d8b823929\"}}],\"id\":\"3dc4d9c7-4686-4505-c5c0-94ae2d145c2c\",\"tags\":[],\"doc\":null}},{\"id\":\"bc0cbae7-ae13-41e4-c125-fc822e16a164\",\"type\":\"DataRange1d\",\"attributes\":{\"sources\":[{\"columns\":[\"y\"],\"source\":{\"type\":\"ColumnDataSource\",\"id\":\"39df18c0-5500-4893-c8f6-7f0d8b823929\"}}],\"id\":\"bc0cbae7-ae13-41e4-c125-fc822e16a164\",\"tags\":[],\"doc\":null}},{\"id\":\"9614dfa8-9f73-4906-c9b8-ce004b16bcd7\",\"type\":\"ToolEvents\",\"attributes\":{\"tags\":[],\"id\":\"9614dfa8-9f73-4906-c9b8-ce004b16bcd7\",\"geometries\":[],\"doc\":null}},{\"id\":\"7ef987d6-b99b-4c16-cc7e-9c4c50cb5cc4\",\"type\":\"BasicTickFormatter\",\"attributes\":{\"id\":\"7ef987d6-b99b-4c16-cc7e-9c4c50cb5cc4\",\"tags\":[],\"doc\":null}},{\"id\":\"6dab06e5-b677-4483-c434-491c70e78b59\",\"type\":\"BasicTicker\",\"attributes\":{\"num_minor_ticks\":5,\"id\":\"6dab06e5-b677-4483-c434-491c70e78b59\",\"tags\":[],\"doc\":null}},{\"id\":\"9749a434-9fdf-409b-c008-777ce997c7b1\",\"type\":\"LinearAxis\",\"attributes\":{\"formatter\":{\"type\":\"BasicTickFormatter\",\"id\":\"7ef987d6-b99b-4c16-cc7e-9c4c50cb5cc4\"},\"ticker\":{\"type\":\"BasicTicker\",\"id\":\"6dab06e5-b677-4483-c434-491c70e78b59\"},\"plot\":{\"id\":\"e681f55b-6433-4b08-cbd5-56851e1ca9b4\",\"type\":\"Plot\",\"subtype\":\"Figure\"},\"axis_label\":null,\"id\":\"9749a434-9fdf-409b-c008-777ce997c7b1\",\"doc\":null,\"tags\":[]}},{\"id\":\"c3e914dd-9ef0-4d30-cdc5-0950b2e84f97\",\"type\":\"Grid\",\"attributes\":{\"dimension\":0,\"plot\":{\"id\":\"e681f55b-6433-4b08-cbd5-56851e1ca9b4\",\"type\":\"Plot\",\"subtype\":\"Figure\"},\"ticker\":{\"type\":\"BasicTicker\",\"id\":\"6dab06e5-b677-4483-c434-491c70e78b59\"},\"id\":\"c3e914dd-9ef0-4d30-cdc5-0950b2e84f97\",\"doc\":null,\"tags\":[]}},{\"id\":\"817658f1-002f-47fb-c763-1f0588a7eb6c\",\"type\":\"BasicTickFormatter\",\"attributes\":{\"id\":\"817658f1-002f-47fb-c763-1f0588a7eb6c\",\"tags\":[],\"doc\":null}},{\"id\":\"c4ed0338-7dec-4521-c59b-f38ca5145ee8\",\"type\":\"BasicTicker\",\"attributes\":{\"num_minor_ticks\":5,\"id\":\"c4ed0338-7dec-4521-c59b-f38ca5145ee8\",\"tags\":[],\"doc\":null}},{\"id\":\"3325eb2e-316d-4a16-caef-3de3fead25d1\",\"type\":\"LinearAxis\",\"attributes\":{\"formatter\":{\"type\":\"BasicTickFormatter\",\"id\":\"817658f1-002f-47fb-c763-1f0588a7eb6c\"},\"ticker\":{\"type\":\"BasicTicker\",\"id\":\"c4ed0338-7dec-4521-c59b-f38ca5145ee8\"},\"plot\":{\"id\":\"e681f55b-6433-4b08-cbd5-56851e1ca9b4\",\"type\":\"Plot\",\"subtype\":\"Figure\"},\"axis_label\":null,\"id\":\"3325eb2e-316d-4a16-caef-3de3fead25d1\",\"doc\":null,\"tags\":[]}},{\"id\":\"513893b6-c1c5-428f-c2c0-0750323fd794\",\"type\":\"Grid\",\"attributes\":{\"dimension\":1,\"plot\":{\"id\":\"e681f55b-6433-4b08-cbd5-56851e1ca9b4\",\"type\":\"Plot\",\"subtype\":\"Figure\"},\"ticker\":{\"type\":\"BasicTicker\",\"id\":\"c4ed0338-7dec-4521-c59b-f38ca5145ee8\"},\"id\":\"513893b6-c1c5-428f-c2c0-0750323fd794\",\"doc\":null,\"tags\":[]}},{\"id\":\"79e9d9c4-4a28-4e17-ce72-74f85bda98cb\",\"type\":\"PanTool\",\"attributes\":{\"plot\":{\"id\":\"e681f55b-6433-4b08-cbd5-56851e1ca9b4\",\"type\":\"Plot\",\"subtype\":\"Figure\"},\"dimensions\":[\"width\",\"height\"],\"id\":\"79e9d9c4-4a28-4e17-ce72-74f85bda98cb\",\"doc\":null,\"tags\":[]}},{\"id\":\"3f947ee5-3034-420f-c254-64fb6852581e\",\"type\":\"WheelZoomTool\",\"attributes\":{\"plot\":{\"id\":\"e681f55b-6433-4b08-cbd5-56851e1ca9b4\",\"type\":\"Plot\",\"subtype\":\"Figure\"},\"dimensions\":[\"width\",\"height\"],\"id\":\"3f947ee5-3034-420f-c254-64fb6852581e\",\"doc\":null,\"tags\":[]}},{\"id\":\"3060bed5-c949-45a3-c5d9-2dc469b0b7a8\",\"type\":\"BoxZoomTool\",\"attributes\":{\"plot\":{\"id\":\"e681f55b-6433-4b08-cbd5-56851e1ca9b4\",\"type\":\"Plot\",\"subtype\":\"Figure\"},\"id\":\"3060bed5-c949-45a3-c5d9-2dc469b0b7a8\",\"tags\":[],\"doc\":null}},{\"id\":\"4473ce17-7b5a-40f1-c0fc-671f22f9d9ec\",\"type\":\"PreviewSaveTool\",\"attributes\":{\"plot\":{\"id\":\"e681f55b-6433-4b08-cbd5-56851e1ca9b4\",\"type\":\"Plot\",\"subtype\":\"Figure\"},\"id\":\"4473ce17-7b5a-40f1-c0fc-671f22f9d9ec\",\"tags\":[],\"doc\":null}},{\"id\":\"bfcd134d-ed90-4dd3-cd1e-272608ba7b79\",\"type\":\"ResizeTool\",\"attributes\":{\"plot\":{\"id\":\"e681f55b-6433-4b08-cbd5-56851e1ca9b4\",\"type\":\"Plot\",\"subtype\":\"Figure\"},\"id\":\"bfcd134d-ed90-4dd3-cd1e-272608ba7b79\",\"tags\":[],\"doc\":null}},{\"id\":\"526b14f2-e959-4543-c5e2-a0977418961b\",\"type\":\"ResetTool\",\"attributes\":{\"plot\":{\"id\":\"e681f55b-6433-4b08-cbd5-56851e1ca9b4\",\"type\":\"Plot\",\"subtype\":\"Figure\"},\"id\":\"526b14f2-e959-4543-c5e2-a0977418961b\",\"tags\":[],\"doc\":null}},{\"id\":\"e681f55b-6433-4b08-cbd5-56851e1ca9b4\",\"type\":\"Plot\",\"attributes\":{\"x_range\":{\"type\":\"DataRange1d\",\"id\":\"3dc4d9c7-4686-4505-c5c0-94ae2d145c2c\"},\"tool_events\":{\"type\":\"ToolEvents\",\"id\":\"9614dfa8-9f73-4906-c9b8-ce004b16bcd7\"},\"below\":[{\"type\":\"LinearAxis\",\"id\":\"9749a434-9fdf-409b-c008-777ce997c7b1\"}],\"renderers\":[{\"type\":\"GlyphRenderer\",\"id\":\"e13a1f18-c2a2-427e-c298-97d44fbc8d35\"},{\"type\":\"LinearAxis\",\"id\":\"9749a434-9fdf-409b-c008-777ce997c7b1\"},{\"type\":\"Grid\",\"id\":\"c3e914dd-9ef0-4d30-cdc5-0950b2e84f97\"},{\"type\":\"LinearAxis\",\"id\":\"3325eb2e-316d-4a16-caef-3de3fead25d1\"},{\"type\":\"Grid\",\"id\":\"513893b6-c1c5-428f-c2c0-0750323fd794\"}],\"above\":[],\"tools\":[{\"type\":\"PanTool\",\"id\":\"79e9d9c4-4a28-4e17-ce72-74f85bda98cb\"},{\"type\":\"WheelZoomTool\",\"id\":\"3f947ee5-3034-420f-c254-64fb6852581e\"},{\"type\":\"BoxZoomTool\",\"id\":\"3060bed5-c949-45a3-c5d9-2dc469b0b7a8\"},{\"type\":\"PreviewSaveTool\",\"id\":\"4473ce17-7b5a-40f1-c0fc-671f22f9d9ec\"},{\"type\":\"ResizeTool\",\"id\":\"bfcd134d-ed90-4dd3-cd1e-272608ba7b79\"},{\"type\":\"ResetTool\",\"id\":\"526b14f2-e959-4543-c5e2-a0977418961b\"}],\"doc\":null,\"right\":[],\"title\":\"Untitled Plot\",\"extra_x_ranges\":{},\"left\":[{\"type\":\"LinearAxis\",\"id\":\"3325eb2e-316d-4a16-caef-3de3fead25d1\"}],\"y_range\":{\"type\":\"DataRange1d\",\"id\":\"bc0cbae7-ae13-41e4-c125-fc822e16a164\"},\"id\":\"e681f55b-6433-4b08-cbd5-56851e1ca9b4\",\"extra_y_ranges\":{},\"tags\":[]}}];\n",
       "      Bokeh.load_models(all_models);\n",
       "      var model = Bokeh.Collections(modeltype).get(modelid);\n",
       "      $(\"#f223fef1-7924-46de-c61f-da27bee49a77\").html(''); // clear any previous plot in window_id\n",
       "      var view = new model.default_view({model: model, el: \"#f223fef1-7924-46de-c61f-da27bee49a77\"});\n",
       "  });\n",
       "    }\n",
       "});\n",
       "</script>\n",
       "<div class=\"plotdiv\" id=\"f223fef1-7924-46de-c61f-da27bee49a77\"></div>\n"
      ]
     },
     "metadata": {},
     "output_type": "display_data"
    }
   ],
   "source": [
    "function colormap(x)\n",
    "    assert(x:dim() == 1)\n",
    "    local mean = x:mean()\n",
    "    local std = x:std()\n",
    "    local c = {}\n",
    "    for i=1,x:size(1) do\n",
    "        local t = 99 * (x[i] - mean) / std\n",
    "        if t > 0 then\n",
    "            if t > 99 then t = 99 end\n",
    "            c[i] = '#' .. tostring(math.floor(t)) .. '0000'\n",
    "        else\n",
    "            t = -t\n",
    "            if t > 99 then t = 99 end\n",
    "            c[i] = '#0000' .. tostring(math.floor(t))\n",
    "        end\n",
    "    end\n",
    "    return c\n",
    "end\n",
    "c = colormap(x1)\n",
    "plot = Plot():circle(x1, y1, c, 'hi'):draw()"
   ]
  },
  {
   "cell_type": "code",
   "execution_count": null,
   "metadata": {
    "collapsed": true
   },
   "outputs": [],
   "source": []
  }
 ],
 "metadata": {
  "kernelspec": {
   "display_name": "iTorch",
   "language": "lua",
   "name": "itorch"
  },
  "language_info": {
   "name": "lua",
   "version": "20100"
  }
 },
 "nbformat": 4,
 "nbformat_minor": 0
}
